{
 "cells": [
  {
   "cell_type": "markdown",
   "id": "bc02e3f6",
   "metadata": {},
   "source": [
    "### ● First, use pandas, zipfile and BytesIO library to extract the data. Find out a way to extract only files that consist of useful data\n",
    "### ● Hint: pd.read_csv(BytesIO(z.read(file_name)), encoding='utf-8', engine='python', header=None)\n",
    "### ● Then, visualize the number of male and female babies born in a particular year with the help of pandas. DataFrame.plot, then analyze baby names by sorting out all birth counts\n",
    "### ● Then, analyze baby names by sorting out top 100 birth counts and group them by names to find out popular baby names"
   ]
  },
  {
   "cell_type": "code",
   "execution_count": 1,
   "id": "068a9d2b",
   "metadata": {},
   "outputs": [],
   "source": [
    "import pandas as pd\n",
    "import zipfile\n",
    "from io import BytesIO"
   ]
  },
  {
   "cell_type": "code",
   "execution_count": 8,
   "id": "eb85c730",
   "metadata": {},
   "outputs": [],
   "source": [
    "# Step 1: Extract useful data from a zip file using pandas, zipfile, and BytesIO\n",
    "zip_file_path = 'C:/Users/ASUS/Desktop/Intellipaat/Datasets/names.zip'\n",
    "useful_files = ['C:\\Users\\ASUS\\Desktop\\Intellipaat\\Datasets/National_data']  # List the files with useful data"
   ]
  },
  {
   "cell_type": "code",
   "execution_count": 9,
   "id": "c6b18b09",
   "metadata": {},
   "outputs": [
    {
     "data": {
      "text/plain": [
       "['C:/Users/ASUS/Desktop/Intellipaat/Datasets/National_dataset']"
      ]
     },
     "execution_count": 9,
     "metadata": {},
     "output_type": "execute_result"
    }
   ],
   "source": [
    "useful_files"
   ]
  },
  {
   "cell_type": "code",
   "execution_count": null,
   "id": "ad717fe8",
   "metadata": {},
   "outputs": [],
   "source": [
    "# Read the zip file\n",
    "with zipfile.ZipFile(zip_file_path, 'r') as z:\n",
    "    dfs = []\n",
    "    for file_name in useful_files:\n",
    "        with z.open(file_name) as file:\n",
    "            df = pd.read_csv(BytesIO(file.read()), encoding='utf-8', engine='python', header=None)\n",
    "            dfs.append(df)"
   ]
  },
  {
   "cell_type": "code",
   "execution_count": null,
   "id": "b9d0b2cb",
   "metadata": {},
   "outputs": [],
   "source": [
    "# Concatenate the dataframes\n",
    "combined_df = pd.concat(dfs)"
   ]
  },
  {
   "cell_type": "code",
   "execution_count": null,
   "id": "7736d599",
   "metadata": {},
   "outputs": [],
   "source": [
    "# Step 2: Visualize the number of male and female babies born in a particular year\n",
    "# Assuming you have columns 'Year', 'Gender', and 'Count' in your combined_df\n",
    "df_gender_counts = combined_df.groupby(['Year', 'Gender']).sum().reset_index()\n"
   ]
  },
  {
   "cell_type": "code",
   "execution_count": null,
   "id": "d806d806",
   "metadata": {},
   "outputs": [],
   "source": [
    "# Create a pivot table\n",
    "df_pivot = df_gender_counts.pivot(index='Year', columns='Gender', values='Count')"
   ]
  },
  {
   "cell_type": "code",
   "execution_count": null,
   "id": "c9a70796",
   "metadata": {},
   "outputs": [],
   "source": [
    "# Plot the data\n",
    "df_pivot.plot(kind='bar', stacked=True, figsize=(10, 6))\n",
    "plt.xlabel('Year')\n",
    "plt.ylabel('Count')\n",
    "plt.title('Number of Male and Female Babies Born per Year')\n",
    "plt.show()"
   ]
  },
  {
   "cell_type": "code",
   "execution_count": null,
   "id": "0f0168fb",
   "metadata": {},
   "outputs": [],
   "source": [
    "# Step 3: Analyze baby names by sorting out top 100 birth counts\n",
    "# Assuming you have columns 'Name' and 'Count' in your combined_df\n",
    "df_name_counts = combined_df.groupby('Name')['Count'].sum().reset_index()"
   ]
  },
  {
   "cell_type": "code",
   "execution_count": null,
   "id": "e3044d7f",
   "metadata": {},
   "outputs": [],
   "source": [
    "# Sort the dataframe by birth counts in descending order\n",
    "df_top_names = df_name_counts.sort_values(by='Count', ascending=False).head(100)"
   ]
  },
  {
   "cell_type": "code",
   "execution_count": null,
   "id": "7a3a6eef",
   "metadata": {},
   "outputs": [],
   "source": [
    "# Group the top names\n",
    "top_names_grouped = df_top_names.groupby('Name')['Count'].sum().reset_index()\n"
   ]
  },
  {
   "cell_type": "code",
   "execution_count": null,
   "id": "5cae332d",
   "metadata": {},
   "outputs": [],
   "source": [
    "# Display the popular baby names\n",
    "print(top_names_grouped)"
   ]
  }
 ],
 "metadata": {
  "kernelspec": {
   "display_name": "Python 3 (ipykernel)",
   "language": "python",
   "name": "python3"
  },
  "language_info": {
   "codemirror_mode": {
    "name": "ipython",
    "version": 3
   },
   "file_extension": ".py",
   "mimetype": "text/x-python",
   "name": "python",
   "nbconvert_exporter": "python",
   "pygments_lexer": "ipython3",
   "version": "3.9.13"
  }
 },
 "nbformat": 4,
 "nbformat_minor": 5
}
