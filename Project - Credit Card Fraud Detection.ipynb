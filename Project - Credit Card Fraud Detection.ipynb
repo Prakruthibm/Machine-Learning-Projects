{
 "cells": [
  {
   "cell_type": "markdown",
   "id": "448d2520",
   "metadata": {},
   "source": [
    "# Problem Statement :"
   ]
  },
  {
   "cell_type": "raw",
   "id": "7aa76f56",
   "metadata": {},
   "source": [
    "1. A credit card is a small thin plastic or fiber card that incorporates\n",
    "information about the person such as a picture or signature and the\n",
    "person’s name on it to charge purchases and services to his linked\n",
    "account. Charges are debited regularly. Nowadays, card data is read by\n",
    "ATMs, swiping machines, store readers, banks and online transactions.\n",
    "\n",
    "2. Each card has a unique card number which is very important. Its security\n",
    "mainly relies on the physical security of the card and also the privacy of the\n",
    "credit card number. There is a rapid growth in credit card transactions\n",
    "which has led to substantial growth in scam cases.\n",
    "\n",
    "3. Credit card fraud is expanding heavily because fraud financial loss is\n",
    "increasing drastically. Multiple data mining and statistical techniques are\n",
    "used to catch fraud. Therefore the detection of fraud using efficient and\n",
    "secured methods are very important."
   ]
  },
  {
   "cell_type": "markdown",
   "id": "1e94c8d4",
   "metadata": {},
   "source": [
    "### 1. Load the dataset using the pandas module."
   ]
  },
  {
   "cell_type": "code",
   "execution_count": 3,
   "id": "0bc0298b",
   "metadata": {},
   "outputs": [],
   "source": [
    "import pandas as pd\n",
    "\n",
    "df = pd.read_csv(\"C:/Users/ASUS/Desktop/Intellipaat/Datasets/creditcard.txt\")\n"
   ]
  },
  {
   "cell_type": "code",
   "execution_count": 4,
   "id": "dffbee06",
   "metadata": {},
   "outputs": [
    {
     "data": {
      "text/html": [
       "<div>\n",
       "<style scoped>\n",
       "    .dataframe tbody tr th:only-of-type {\n",
       "        vertical-align: middle;\n",
       "    }\n",
       "\n",
       "    .dataframe tbody tr th {\n",
       "        vertical-align: top;\n",
       "    }\n",
       "\n",
       "    .dataframe thead th {\n",
       "        text-align: right;\n",
       "    }\n",
       "</style>\n",
       "<table border=\"1\" class=\"dataframe\">\n",
       "  <thead>\n",
       "    <tr style=\"text-align: right;\">\n",
       "      <th></th>\n",
       "      <th>Time</th>\n",
       "      <th>V1</th>\n",
       "      <th>V2</th>\n",
       "      <th>V3</th>\n",
       "      <th>V4</th>\n",
       "      <th>V5</th>\n",
       "      <th>V6</th>\n",
       "      <th>V7</th>\n",
       "      <th>V8</th>\n",
       "      <th>V9</th>\n",
       "      <th>...</th>\n",
       "      <th>V21</th>\n",
       "      <th>V22</th>\n",
       "      <th>V23</th>\n",
       "      <th>V24</th>\n",
       "      <th>V25</th>\n",
       "      <th>V26</th>\n",
       "      <th>V27</th>\n",
       "      <th>V28</th>\n",
       "      <th>Amount</th>\n",
       "      <th>Class</th>\n",
       "    </tr>\n",
       "  </thead>\n",
       "  <tbody>\n",
       "    <tr>\n",
       "      <th>0</th>\n",
       "      <td>0</td>\n",
       "      <td>-1.359807</td>\n",
       "      <td>-0.072781</td>\n",
       "      <td>2.536347</td>\n",
       "      <td>1.378155</td>\n",
       "      <td>-0.338321</td>\n",
       "      <td>0.462388</td>\n",
       "      <td>0.239599</td>\n",
       "      <td>0.098698</td>\n",
       "      <td>0.363787</td>\n",
       "      <td>...</td>\n",
       "      <td>-0.018307</td>\n",
       "      <td>0.277838</td>\n",
       "      <td>-0.110474</td>\n",
       "      <td>0.066928</td>\n",
       "      <td>0.128539</td>\n",
       "      <td>-0.189115</td>\n",
       "      <td>0.133558</td>\n",
       "      <td>-0.021053</td>\n",
       "      <td>149.62</td>\n",
       "      <td>0.0</td>\n",
       "    </tr>\n",
       "    <tr>\n",
       "      <th>1</th>\n",
       "      <td>0</td>\n",
       "      <td>1.191857</td>\n",
       "      <td>0.266151</td>\n",
       "      <td>0.166480</td>\n",
       "      <td>0.448154</td>\n",
       "      <td>0.060018</td>\n",
       "      <td>-0.082361</td>\n",
       "      <td>-0.078803</td>\n",
       "      <td>0.085102</td>\n",
       "      <td>-0.255425</td>\n",
       "      <td>...</td>\n",
       "      <td>-0.225775</td>\n",
       "      <td>-0.638672</td>\n",
       "      <td>0.101288</td>\n",
       "      <td>-0.339846</td>\n",
       "      <td>0.167170</td>\n",
       "      <td>0.125895</td>\n",
       "      <td>-0.008983</td>\n",
       "      <td>0.014724</td>\n",
       "      <td>2.69</td>\n",
       "      <td>0.0</td>\n",
       "    </tr>\n",
       "    <tr>\n",
       "      <th>2</th>\n",
       "      <td>1</td>\n",
       "      <td>-1.358354</td>\n",
       "      <td>-1.340163</td>\n",
       "      <td>1.773209</td>\n",
       "      <td>0.379780</td>\n",
       "      <td>-0.503198</td>\n",
       "      <td>1.800499</td>\n",
       "      <td>0.791461</td>\n",
       "      <td>0.247676</td>\n",
       "      <td>-1.514654</td>\n",
       "      <td>...</td>\n",
       "      <td>0.247998</td>\n",
       "      <td>0.771679</td>\n",
       "      <td>0.909412</td>\n",
       "      <td>-0.689281</td>\n",
       "      <td>-0.327642</td>\n",
       "      <td>-0.139097</td>\n",
       "      <td>-0.055353</td>\n",
       "      <td>-0.059752</td>\n",
       "      <td>378.66</td>\n",
       "      <td>0.0</td>\n",
       "    </tr>\n",
       "    <tr>\n",
       "      <th>3</th>\n",
       "      <td>1</td>\n",
       "      <td>-0.966272</td>\n",
       "      <td>-0.185226</td>\n",
       "      <td>1.792993</td>\n",
       "      <td>-0.863291</td>\n",
       "      <td>-0.010309</td>\n",
       "      <td>1.247203</td>\n",
       "      <td>0.237609</td>\n",
       "      <td>0.377436</td>\n",
       "      <td>-1.387024</td>\n",
       "      <td>...</td>\n",
       "      <td>-0.108300</td>\n",
       "      <td>0.005274</td>\n",
       "      <td>-0.190321</td>\n",
       "      <td>-1.175575</td>\n",
       "      <td>0.647376</td>\n",
       "      <td>-0.221929</td>\n",
       "      <td>0.062723</td>\n",
       "      <td>0.061458</td>\n",
       "      <td>123.50</td>\n",
       "      <td>0.0</td>\n",
       "    </tr>\n",
       "    <tr>\n",
       "      <th>4</th>\n",
       "      <td>2</td>\n",
       "      <td>-1.158233</td>\n",
       "      <td>0.877737</td>\n",
       "      <td>1.548718</td>\n",
       "      <td>0.403034</td>\n",
       "      <td>-0.407193</td>\n",
       "      <td>0.095921</td>\n",
       "      <td>0.592941</td>\n",
       "      <td>-0.270533</td>\n",
       "      <td>0.817739</td>\n",
       "      <td>...</td>\n",
       "      <td>-0.009431</td>\n",
       "      <td>0.798278</td>\n",
       "      <td>-0.137458</td>\n",
       "      <td>0.141267</td>\n",
       "      <td>-0.206010</td>\n",
       "      <td>0.502292</td>\n",
       "      <td>0.219422</td>\n",
       "      <td>0.215153</td>\n",
       "      <td>69.99</td>\n",
       "      <td>0.0</td>\n",
       "    </tr>\n",
       "  </tbody>\n",
       "</table>\n",
       "<p>5 rows × 31 columns</p>\n",
       "</div>"
      ],
      "text/plain": [
       "   Time        V1        V2        V3        V4        V5        V6        V7  \\\n",
       "0     0 -1.359807 -0.072781  2.536347  1.378155 -0.338321  0.462388  0.239599   \n",
       "1     0  1.191857  0.266151  0.166480  0.448154  0.060018 -0.082361 -0.078803   \n",
       "2     1 -1.358354 -1.340163  1.773209  0.379780 -0.503198  1.800499  0.791461   \n",
       "3     1 -0.966272 -0.185226  1.792993 -0.863291 -0.010309  1.247203  0.237609   \n",
       "4     2 -1.158233  0.877737  1.548718  0.403034 -0.407193  0.095921  0.592941   \n",
       "\n",
       "         V8        V9  ...       V21       V22       V23       V24       V25  \\\n",
       "0  0.098698  0.363787  ... -0.018307  0.277838 -0.110474  0.066928  0.128539   \n",
       "1  0.085102 -0.255425  ... -0.225775 -0.638672  0.101288 -0.339846  0.167170   \n",
       "2  0.247676 -1.514654  ...  0.247998  0.771679  0.909412 -0.689281 -0.327642   \n",
       "3  0.377436 -1.387024  ... -0.108300  0.005274 -0.190321 -1.175575  0.647376   \n",
       "4 -0.270533  0.817739  ... -0.009431  0.798278 -0.137458  0.141267 -0.206010   \n",
       "\n",
       "        V26       V27       V28  Amount  Class  \n",
       "0 -0.189115  0.133558 -0.021053  149.62    0.0  \n",
       "1  0.125895 -0.008983  0.014724    2.69    0.0  \n",
       "2 -0.139097 -0.055353 -0.059752  378.66    0.0  \n",
       "3 -0.221929  0.062723  0.061458  123.50    0.0  \n",
       "4  0.502292  0.219422  0.215153   69.99    0.0  \n",
       "\n",
       "[5 rows x 31 columns]"
      ]
     },
     "execution_count": 4,
     "metadata": {},
     "output_type": "execute_result"
    }
   ],
   "source": [
    "df.head()"
   ]
  },
  {
   "cell_type": "markdown",
   "id": "5ce15cd6",
   "metadata": {},
   "source": [
    "### 2. Perform missing value analysis on the dataset."
   ]
  },
  {
   "cell_type": "code",
   "execution_count": 5,
   "id": "2b2f6b27",
   "metadata": {},
   "outputs": [
    {
     "name": "stdout",
     "output_type": "stream",
     "text": [
      "Time      0\n",
      "V1        0\n",
      "V2        0\n",
      "V3        0\n",
      "V4        0\n",
      "V5        0\n",
      "V6        0\n",
      "V7        0\n",
      "V8        0\n",
      "V9        0\n",
      "V10       0\n",
      "V11       0\n",
      "V12       1\n",
      "V13       1\n",
      "V14       1\n",
      "V15       1\n",
      "V16       1\n",
      "V17       1\n",
      "V18       1\n",
      "V19       1\n",
      "V20       1\n",
      "V21       1\n",
      "V22       1\n",
      "V23       1\n",
      "V24       1\n",
      "V25       1\n",
      "V26       1\n",
      "V27       1\n",
      "V28       1\n",
      "Amount    1\n",
      "Class     1\n",
      "dtype: int64\n"
     ]
    }
   ],
   "source": [
    "missing_values = df.isnull().sum()\n",
    "print(missing_values)\n"
   ]
  },
  {
   "cell_type": "code",
   "execution_count": 13,
   "id": "2ba402a6",
   "metadata": {},
   "outputs": [],
   "source": [
    "df.fillna(0, inplace=True)"
   ]
  },
  {
   "cell_type": "markdown",
   "id": "5e3bb405",
   "metadata": {},
   "source": [
    "### 3. Calculate the number of genuine transactions, number of fraud transactions, and the percentage of fraud transactions."
   ]
  },
  {
   "cell_type": "code",
   "execution_count": 14,
   "id": "69088633",
   "metadata": {},
   "outputs": [
    {
     "name": "stdout",
     "output_type": "stream",
     "text": [
      "Number of Genuine Transactions: 11616\n",
      "Number of Fraud Transactions: 49\n",
      "Percentage of Fraud Transactions: 0.42006000857265324 %\n"
     ]
    }
   ],
   "source": [
    "num_genuine_transactions = df[df[\"Class\"] == 0].shape[0]\n",
    "num_fraud_transactions = df[df[\"Class\"] == 1].shape[0]\n",
    "percentage_fraud_transactions = (num_fraud_transactions / df.shape[0]) * 100\n",
    "\n",
    "print(\"Number of Genuine Transactions:\", num_genuine_transactions)\n",
    "print(\"Number of Fraud Transactions:\", num_fraud_transactions)\n",
    "print(\"Percentage of Fraud Transactions:\", percentage_fraud_transactions, \"%\")\n"
   ]
  },
  {
   "cell_type": "markdown",
   "id": "37c207dd",
   "metadata": {},
   "source": [
    "### 4. Visualize the genuine and fraudulent transactions using a bar graph."
   ]
  },
  {
   "cell_type": "code",
   "execution_count": 15,
   "id": "e090a3c0",
   "metadata": {},
   "outputs": [
    {
     "data": {
      "image/png": "[encoded data removed]",
      "text/plain": [
       "<Figure size 640x480 with 1 Axes>"
      ]
     },
     "metadata": {},
     "output_type": "display_data"
    }
   ],
   "source": [
    "import matplotlib.pyplot as plt\n",
    "\n",
    "fraud_counts = df[\"Class\"].value_counts()\n",
    "fraud_counts.plot(kind=\"bar\")\n",
    "plt.xticks([0, 1], labels=[\"Genuine\", \"Fraud\"])\n",
    "plt.xlabel(\"Transaction Class\")\n",
    "plt.ylabel(\"Count\")\n",
    "plt.title(\"Genuine vs. Fraudulent Transactions\")\n",
    "plt.show()\n"
   ]
  },
  {
   "cell_type": "markdown",
   "id": "aaf856f9",
   "metadata": {},
   "source": [
    "### 5. Normalize the \"Amount\" column using the StandardScaler module."
   ]
  },
  {
   "cell_type": "code",
   "execution_count": 16,
   "id": "cb41ec71",
   "metadata": {},
   "outputs": [],
   "source": [
    "from sklearn.preprocessing import StandardScaler\n",
    "\n",
    "scaler = StandardScaler()\n",
    "df[\"NormalizedAmount\"] = scaler.fit_transform(df[\"Amount\"].values.reshape(-1, 1))\n"
   ]
  },
  {
   "cell_type": "markdown",
   "id": "8f0fa800",
   "metadata": {},
   "source": [
    "### 6. Split the dataset into training and test sets with a 70:30 split ratio.\n"
   ]
  },
  {
   "cell_type": "code",
   "execution_count": 17,
   "id": "986d31a5",
   "metadata": {},
   "outputs": [],
   "source": [
    "from sklearn.model_selection import train_test_split\n",
    "\n",
    "X = df.drop([\"Class\", \"Amount\"], axis=1)\n",
    "y = df[\"Class\"]\n",
    "\n",
    "X_train, X_test, y_train, y_test = train_test_split(X, y, test_size=0.3, random_state=42)\n"
   ]
  },
  {
   "cell_type": "markdown",
   "id": "54d0eab1",
   "metadata": {},
   "source": [
    "### 7. Train the decision tree and random forest models on the training set."
   ]
  },
  {
   "cell_type": "code",
   "execution_count": 18,
   "id": "99d2dd79",
   "metadata": {},
   "outputs": [
    {
     "data": {
      "text/plain": [
       "RandomForestClassifier(random_state=42)"
      ]
     },
     "execution_count": 18,
     "metadata": {},
     "output_type": "execute_result"
    }
   ],
   "source": [
    "from sklearn.tree import DecisionTreeClassifier\n",
    "from sklearn.ensemble import RandomForestClassifier\n",
    "\n",
    "decision_tree_model = DecisionTreeClassifier(random_state=42)\n",
    "random_forest_model = RandomForestClassifier(random_state=42)\n",
    "\n",
    "decision_tree_model.fit(X_train, y_train)\n",
    "random_forest_model.fit(X_train, y_train)\n"
   ]
  },
  {
   "cell_type": "markdown",
   "id": "b76028b8",
   "metadata": {},
   "source": [
    "### 8. Compare the predictions of both models using predict()."
   ]
  },
  {
   "cell_type": "code",
   "execution_count": 19,
   "id": "cde94891",
   "metadata": {},
   "outputs": [],
   "source": [
    "y_pred_decision_tree = decision_tree_model.predict(X_test)\n",
    "y_pred_random_forest = random_forest_model.predict(X_test)"
   ]
  },
  {
   "cell_type": "markdown",
   "id": "ea71b0ec",
   "metadata": {},
   "source": [
    "### 9. Compare the accuracy of both models using score()."
   ]
  },
  {
   "cell_type": "code",
   "execution_count": 20,
   "id": "72f2dcfc",
   "metadata": {},
   "outputs": [
    {
     "name": "stdout",
     "output_type": "stream",
     "text": [
      "Decision Tree Accuracy: 0.9988571428571429\n",
      "Random Forest Accuracy: 0.9994285714285714\n"
     ]
    }
   ],
   "source": [
    "accuracy_decision_tree = decision_tree_model.score(X_test, y_test)\n",
    "accuracy_random_forest = random_forest_model.score(X_test, y_test)\n",
    "\n",
    "print(\"Decision Tree Accuracy:\", accuracy_decision_tree)\n",
    "print(\"Random Forest Accuracy:\", accuracy_random_forest)\n"
   ]
  },
  {
   "cell_type": "markdown",
   "id": "5a98b410",
   "metadata": {},
   "source": [
    "### 10. Check the performance matrix of both models and compare which model is having the highest performance."
   ]
  },
  {
   "cell_type": "code",
   "execution_count": 21,
   "id": "bc27b46e",
   "metadata": {},
   "outputs": [
    {
     "name": "stdout",
     "output_type": "stream",
     "text": [
      "Decision Tree Performance Metrics:\n",
      "              precision    recall  f1-score   support\n",
      "\n",
      "         0.0       1.00      1.00      1.00      3483\n",
      "         1.0       0.88      0.88      0.88        17\n",
      "\n",
      "    accuracy                           1.00      3500\n",
      "   macro avg       0.94      0.94      0.94      3500\n",
      "weighted avg       1.00      1.00      1.00      3500\n",
      "\n",
      "Confusion Matrix:\n",
      "[[3481    2]\n",
      " [   2   15]]\n",
      "Random Forest Performance Metrics:\n",
      "              precision    recall  f1-score   support\n",
      "\n",
      "         0.0       1.00      1.00      1.00      3483\n",
      "         1.0       1.00      0.88      0.94        17\n",
      "\n",
      "    accuracy                           1.00      3500\n",
      "   macro avg       1.00      0.94      0.97      3500\n",
      "weighted avg       1.00      1.00      1.00      3500\n",
      "\n",
      "Confusion Matrix:\n",
      "[[3483    0]\n",
      " [   2   15]]\n"
     ]
    }
   ],
   "source": [
    "from sklearn.metrics import classification_report, confusion_matrix\n",
    "\n",
    "print(\"Decision Tree Performance Metrics:\")\n",
    "print(classification_report(y_test, y_pred_decision_tree))\n",
    "print(\"Confusion Matrix:\")\n",
    "print(confusion_matrix(y_test, y_pred_decision_tree))\n",
    "\n",
    "print(\"Random Forest Performance Metrics:\")\n",
    "print(classification_report(y_test, y_pred_random_forest))\n",
    "print(\"Confusion Matrix:\")\n",
    "print(confusion_matrix(y_test, y_pred_random_forest))\n"
   ]
  },
  {
   "cell_type": "code",
   "execution_count": null,
   "id": "e06d1867",
   "metadata": {},
   "outputs": [],
   "source": []
  }
 ],
 "metadata": {
  "kernelspec": {
   "display_name": "Python 3 (ipykernel)",
   "language": "python",
   "name": "python3"
  },
  "language_info": {
   "codemirror_mode": {
    "name": "ipython",
    "version": 3
   },
   "file_extension": ".py",
   "mimetype": "text/x-python",
   "name": "python",
   "nbconvert_exporter": "python",
   "pygments_lexer": "ipython3",
   "version": "3.9.13"
  }
 },
 "nbformat": 4,
 "nbformat_minor": 5
}
