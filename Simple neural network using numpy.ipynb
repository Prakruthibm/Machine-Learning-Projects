{
 "cells": [
  {
   "cell_type": "code",
   "execution_count": null,
   "id": "e6880c7e",
   "metadata": {},
   "outputs": [],
   "source": []
  },
  {
   "cell_type": "code",
   "execution_count": 1,
   "id": "87534c94",
   "metadata": {},
   "outputs": [],
   "source": [
    "import numpy as np\n",
    "import matplotlib.pyplot as plt\n",
    "import pandas as pd"
   ]
  },
  {
   "cell_type": "code",
   "execution_count": 2,
   "id": "7a957b53",
   "metadata": {},
   "outputs": [],
   "source": [
    "# y = w1x1 + w2x2\n",
    "# x1 and x2 are features\n",
    "# Y is the target\n",
    "# w1 and w2 are weights of the perceptron\n",
    "\n",
    "# y is spend of a customer\n",
    "# x1 is product 1\n",
    "# x2 is product 2\n",
    "# How many units of prod 1 and 2 customer must purchase to achieve a sale of Y amount"
   ]
  },
  {
   "cell_type": "code",
   "execution_count": 3,
   "id": "daad200c",
   "metadata": {},
   "outputs": [],
   "source": [
    "x1 = 4\n",
    "x2 = 5\n",
    "# x3 = 3.5\n",
    "y = 10\n",
    "\n",
    "# 10 = 4.w1 + 5.w2"
   ]
  },
  {
   "cell_type": "code",
   "execution_count": 9,
   "id": "fc1f059d",
   "metadata": {},
   "outputs": [
    {
     "name": "stdout",
     "output_type": "stream",
     "text": [
      "Epoch :  0 Value of w1 :  0 Value of w2 :  0 Error is :  100 Predicted is :  0\n",
      "Epoch :  1 Value of w1 :  1.6 Value of w2 :  2.0 Error is :  40.95999999999998 Predicted is :  16.4\n",
      "Epoch :  2 Value of w1 :  0.5760000000000003 Value of w2 :  0.7200000000000002 Error is :  16.777215999999985 Predicted is :  5.904000000000002\n",
      "Epoch :  3 Value of w1 :  1.23136 Value of w2 :  1.5391999999999997 Error is :  6.87194767359999 Predicted is :  12.621439999999998\n",
      "Epoch :  4 Value of w1 :  0.8119296000000003 Value of w2 :  1.014912 Error is :  2.814749767106554 Predicted is :  8.322278400000002\n",
      "Epoch :  5 Value of w1 :  1.080365056 Value of w2 :  1.3504563199999997 Error is :  1.1529215046068448 Predicted is :  11.073741823999999\n",
      "Epoch :  6 Value of w1 :  0.9085663641600001 Value of w2 :  1.1357079552 Error is :  0.4722366482869637 Predicted is :  9.31280523264\n",
      "Epoch :  7 Value of w1 :  1.0185175269376001 Value of w2 :  1.273146908672 Error is :  0.1934281311383406 Predicted is :  10.4398046511104\n",
      "Epoch :  8 Value of w1 :  0.9481487827599361 Value of w2 :  1.18518597844992 Error is :  0.07922816251426466 Predicted is :  9.718525023289343\n",
      "Epoch :  9 Value of w1 :  0.9931847790336411 Value of w2 :  1.2414809737920511 Error is :  0.03245185536584245 Predicted is :  10.18014398509482\n",
      "Epoch :  10 Value of w1 :  0.96436174141847 Value of w2 :  1.2054521767730872 Error is :  0.013292279957849018 Predicted is :  9.884707849539316\n",
      "Epoch :  11 Value of w1 :  0.9828084854921795 Value of w2 :  1.228510606865224 Error is :  0.0054445178707348526 Predicted is :  10.073786976294837\n",
      "Epoch :  12 Value of w1 :  0.9710025692850055 Value of w2 :  1.2137532116062566 Error is :  0.002230074519853009 Predicted is :  9.952776335171304\n",
      "Epoch :  13 Value of w1 :  0.9785583556575969 Value of w2 :  1.2231979445719958 Error is :  0.0009134385233318226 Predicted is :  10.030223145490366\n",
      "Epoch :  14 Value of w1 :  0.9737226523791384 Value of w2 :  1.2171533154739227 Error is :  0.00037414441915670904 Predicted is :  9.980657186886166\n",
      "Epoch :  15 Value of w1 :  0.9768175024773518 Value of w2 :  1.2210218780966895 Error is :  0.0001532495540865968 Predicted is :  10.012379400392854\n",
      "Epoch :  16 Value of w1 :  0.9748367984144951 Value of w2 :  1.2185459980181186 Error is :  6.27710173538633e-05 Predicted is :  9.992077183748574\n",
      "Epoch :  17 Value of w1 :  0.9761044490147233 Value of w2 :  1.220130561268404 Error is :  2.571100870814529e-05 Predicted is :  10.005070602400913\n",
      "Epoch :  18 Value of w1 :  0.9752931526305771 Value of w2 :  1.2191164407882213 Error is :  1.053122916686e-05 Predicted is :  9.996754814463415\n",
      "Epoch :  19 Value of w1 :  0.9758123823164307 Value of w2 :  1.2197654778955382 Error is :  4.313591466746151e-06 Predicted is :  10.002076918743414\n",
      "Epoch :  20 Value of w1 :  0.9754800753174845 Value of w2 :  1.2193500941468554 Error is :  1.7668470647811124e-06 Predicted is :  9.998670772004214\n",
      "Epoch :  21 Value of w1 :  0.9756927517968103 Value of w2 :  1.2196159397460125 Error is :  7.237005577344646e-07 Predicted is :  10.000850705917303\n",
      "Epoch :  22 Value of w1 :  0.9755566388500417 Value of w2 :  1.2194457985625518 Error is :  2.964277484491199e-07 Predicted is :  9.999455548212925\n",
      "Epoch :  23 Value of w1 :  0.9756437511359737 Value of w2 :  1.2195546889199667 Error is :  1.2141680576555178e-07 Predicted is :  10.00034844914373\n",
      "Epoch :  24 Value of w1 :  0.975587999272977 Value of w2 :  1.2194849990912209 Error is :  4.9732323641982e-08 Predicted is :  9.999776992548012\n",
      "Epoch :  25 Value of w1 :  0.975623680465295 Value of w2 :  1.2195296005816183 Error is :  2.037035976337046e-08 Predicted is :  10.00014272476927\n",
      "Epoch :  26 Value of w1 :  0.9756008445022117 Value of w2 :  1.2195010556277641 Error is :  8.343699358972694e-09 Predicted is :  9.999908656147667\n",
      "Epoch :  27 Value of w1 :  0.975615459518585 Value of w2 :  1.2195193243982307 Error is :  3.4175792575930617e-09 Predicted is :  10.000058460065494\n",
      "Epoch :  28 Value of w1 :  0.9756061059081059 Value of w2 :  1.219507632385132 Error is :  1.3998404638994843e-09 Predicted is :  9.999962585558084\n",
      "Epoch :  29 Value of w1 :  0.9756120922188125 Value of w2 :  1.219515115273515 Error is :  5.733746539485751e-10 Predicted is :  10.000023945242825\n",
      "Epoch :  30 Value of w1 :  0.9756082609799606 Value of w2 :  1.21951032622495 Error is :  2.348542582508029e-10 Predicted is :  9.999984675044592\n",
      "Epoch :  31 Value of w1 :  0.9756107129728258 Value of w2 :  1.2195133912160316 Error is :  9.619630417534749e-11 Predicted is :  10.00000980797146\n",
      "Epoch :  32 Value of w1 :  0.975609143697392 Value of w2 :  1.2195114296217395 Error is :  3.940200618397812e-11 Predicted is :  9.999993722898266\n",
      "Epoch :  33 Value of w1 :  0.9756101480336695 Value of w2 :  1.2195126850420863 Error is :  1.6139061724964854e-11 Predicted is :  10.000004017345109\n",
      "Epoch :  34 Value of w1 :  0.975609505258452 Value of w2 :  1.2195118815730646 Error is :  6.61055968364173e-12 Predicted is :  9.99999742889913\n",
      "Epoch :  35 Value of w1 :  0.9756099166345912 Value of w2 :  1.2195123957932386 Error is :  2.707685248758055e-12 Predicted is :  10.000001645504558\n",
      "Epoch :  36 Value of w1 :  0.975609653353862 Value of w2 :  1.2195120666923271 Error is :  1.109067878040957e-12 Predicted is :  9.999998946877083\n",
      "Epoch :  37 Value of w1 :  0.9756098218535286 Value of w2 :  1.2195122773169105 Error is :  4.542742026540141e-13 Predicted is :  10.000000673998667\n",
      "Epoch :  38 Value of w1 :  0.975609714013742 Value of w2 :  1.219512142517177 Error is :  1.8607071414268204e-13 Predicted is :  9.999999568640852\n",
      "Epoch :  39 Value of w1 :  0.9756097830312056 Value of w2 :  1.2195122287890066 Error is :  7.621456482669765e-14 Predicted is :  10.000000276069855\n",
      "Epoch :  40 Value of w1 :  0.9756097388600288 Value of w2 :  1.2195121735750356 Error is :  3.1217485953882614e-14 Predicted is :  9.999999823315292\n",
      "Epoch :  41 Value of w1 :  0.975609767129582 Value of w2 :  1.2195122089119772 Error is :  1.2786682760930502e-14 Predicted is :  10.000000113078215\n",
      "Epoch :  42 Value of w1 :  0.9756097490370675 Value of w2 :  1.219512186296334 Error is :  5.237425608546867e-15 Predicted is :  9.99999992762994\n",
      "Epoch :  43 Value of w1 :  0.9756097606162771 Value of w2 :  1.219512200770346 Error is :  2.1452495160967596e-15 Predicted is :  10.000000046316838\n",
      "Epoch :  44 Value of w1 :  0.975609753205583 Value of w2 :  1.2195121915069784 Error is :  8.786942354931683e-16 Predicted is :  9.999999970357223\n",
      "Epoch :  45 Value of w1 :  0.9756097579484273 Value of w2 :  1.2195121974355339 Error is :  3.5991315885800175e-16 Predicted is :  10.000000018971377\n",
      "Epoch :  46 Value of w1 :  0.9756097549130069 Value of w2 :  1.2195121936412583 Error is :  1.4742038500688623e-16 Predicted is :  9.99999998785832\n",
      "Epoch :  47 Value of w1 :  0.9756097568556756 Value of w2 :  1.2195121960695943 Error is :  6.038335877900325e-17 Predicted is :  10.000000007770673\n",
      "Epoch :  48 Value of w1 :  0.975609755612368 Value of w2 :  1.2195121945154597 Error is :  2.4733023755879733e-17 Predicted is :  9.99999999502677\n",
      "Epoch :  49 Value of w1 :  0.9756097564080849 Value of w2 :  1.2195121955101058 Error is :  1.0130655576664332e-17 Predicted is :  10.000000003182869\n",
      "Epoch :  50 Value of w1 :  0.9756097558988258 Value of w2 :  1.219512194873532 Error is :  4.14952057692629e-18 Predicted is :  9.999999997962963\n",
      "Epoch :  51 Value of w1 :  0.9756097562247518 Value of w2 :  1.2195121952809393 Error is :  1.6996436283090083e-18 Predicted is :  10.000000001303704\n",
      "Epoch :  52 Value of w1 :  0.9756097560161592 Value of w2 :  1.2195121950201986 Error is :  6.961716587339707e-19 Predicted is :  9.999999999165631\n",
      "Epoch :  53 Value of w1 :  0.9756097561496582 Value of w2 :  1.2195121951870724 Error is :  2.851497866296284e-19 Predicted is :  10.000000000533994\n",
      "Epoch :  54 Value of w1 :  0.9756097560642191 Value of w2 :  1.2195121950802736 Error is :  1.1679652697465974e-19 Predicted is :  9.999999999658245\n",
      "Epoch :  55 Value of w1 :  0.9756097561188999 Value of w2 :  1.2195121951486247 Error is :  4.7839670954347815e-20 Predicted is :  10.000000000218723\n",
      "Epoch :  56 Value of w1 :  0.9756097560839042 Value of w2 :  1.2195121951048802 Error is :  1.9595029759405185e-20 Predicted is :  9.999999999860018\n",
      "Epoch :  57 Value of w1 :  0.9756097561063014 Value of w2 :  1.2195121951328767 Error is :  8.026149652095141e-21 Predicted is :  10.000000000089589\n",
      "Epoch :  58 Value of w1 :  0.9756097560919672 Value of w2 :  1.219512195114959 Error is :  3.2875597859928297e-21 Predicted is :  9.999999999942663\n",
      "Epoch :  59 Value of w1 :  0.9756097561011412 Value of w2 :  1.2195121951264265 Error is :  1.3467252914112435e-21 Predicted is :  10.000000000036698\n",
      "Epoch :  60 Value of w1 :  0.9756097560952696 Value of w2 :  1.219512195119087 Error is :  5.5163870539255835e-22 Predicted is :  9.999999999976513\n",
      "Epoch :  61 Value of w1 :  0.9756097560990274 Value of w2 :  1.2195121951237844 Error is :  2.2594694149036987e-22 Predicted is :  10.000000000015032\n",
      "Epoch :  62 Value of w1 :  0.9756097560966224 Value of w2 :  1.2195121951207781 Error is :  9.255880443623453e-23 Predicted is :  9.99999999999038\n",
      "Epoch :  63 Value of w1 :  0.9756097560981617 Value of w2 :  1.2195121951227024 Error is :  3.7928713157508506e-23 Predicted is :  10.000000000006159\n",
      "Epoch :  64 Value of w1 :  0.9756097560971763 Value of w2 :  1.2195121951214707 Error is :  1.5537281326931834e-23 Predicted is :  9.999999999996058\n",
      "Epoch :  65 Value of w1 :  0.975609756097807 Value of w2 :  1.219512195122259 Error is :  6.362636517150593e-24 Predicted is :  10.000000000002522\n",
      "Epoch :  66 Value of w1 :  0.9756097560974034 Value of w2 :  1.2195121951217545 Error is :  2.6072831105076914e-24 Predicted is :  9.999999999998385\n",
      "Epoch :  67 Value of w1 :  0.9756097560976618 Value of w2 :  1.2195121951220773 Error is :  1.068824485040328e-24 Predicted is :  10.000000000001034\n",
      "Epoch :  68 Value of w1 :  0.9756097560974963 Value of w2 :  1.2195121951218706 Error is :  4.36662910032418e-25 Predicted is :  9.99999999999934\n",
      "Epoch :  69 Value of w1 :  0.975609756097602 Value of w2 :  1.2195121951220027 Error is :  1.7873694846135597e-25 Predicted is :  10.000000000000423\n",
      "Epoch :  70 Value of w1 :  0.9756097560975344 Value of w2 :  1.219512195121918 Error is :  7.386577972127466e-26 Predicted is :  9.999999999999728\n",
      "Epoch :  71 Value of w1 :  0.9756097560975779 Value of w2 :  1.2195121951219725 Error is :  3.030488053497039e-26 Predicted is :  10.000000000000174\n",
      "Epoch :  72 Value of w1 :  0.9756097560975501 Value of w2 :  1.2195121951219376 Error is :  1.2129525278678278e-26 Predicted is :  9.99999999999989\n",
      "Epoch :  73 Value of w1 :  0.9756097560975677 Value of w2 :  1.2195121951219596 Error is :  4.799429747364636e-27 Predicted is :  10.00000000000007\n",
      "Epoch :  74 Value of w1 :  0.9756097560975566 Value of w2 :  1.2195121951219459 Error is :  1.9721522630525295e-27 Predicted is :  9.999999999999956\n",
      "Epoch :  75 Value of w1 :  0.9756097560975637 Value of w2 :  1.2195121951219547 Error is :  8.077935669463161e-28 Predicted is :  10.000000000000028\n",
      "Epoch :  76 Value of w1 :  0.9756097560975592 Value of w2 :  1.219512195121949 Error is :  3.155443620884047e-28 Predicted is :  9.999999999999982\n",
      "Epoch :  77 Value of w1 :  0.9756097560975621 Value of w2 :  1.2195121951219525 Error is :  1.135959703518257e-28 Predicted is :  10.00000000000001\n",
      "Epoch :  78 Value of w1 :  0.9756097560975604 Value of w2 :  1.2195121951219503 Error is :  5.048709793414476e-29 Predicted is :  9.999999999999993\n",
      "Epoch :  79 Value of w1 :  0.9756097560975615 Value of w2 :  1.2195121951219516 Error is :  1.262177448353619e-29 Predicted is :  10.000000000000004\n",
      "Epoch :  80 Value of w1 :  0.975609756097561 Value of w2 :  1.219512195121951 Error is :  3.1554436208840472e-30 Predicted is :  9.999999999999998\n",
      "Epoch :  81 Value of w1 :  0.9756097560975613 Value of w2 :  1.2195121951219514 Error is :  3.1554436208840472e-30 Predicted is :  10.000000000000002\n",
      "Epoch :  82 Value of w1 :  0.975609756097561 Value of w2 :  1.219512195121951 Error is :  3.1554436208840472e-30 Predicted is :  9.999999999999998\n",
      "Epoch :  83 Value of w1 :  0.9756097560975613 Value of w2 :  1.2195121951219514 Error is :  3.1554436208840472e-30 Predicted is :  10.000000000000002\n",
      "Epoch :  84 Value of w1 :  0.975609756097561 Value of w2 :  1.219512195121951 Error is :  3.1554436208840472e-30 Predicted is :  9.999999999999998\n",
      "Epoch :  85 Value of w1 :  0.9756097560975613 Value of w2 :  1.2195121951219514 Error is :  3.1554436208840472e-30 Predicted is :  10.000000000000002\n",
      "Epoch :  86 Value of w1 :  0.975609756097561 Value of w2 :  1.219512195121951 Error is :  3.1554436208840472e-30 Predicted is :  9.999999999999998\n",
      "Epoch :  87 Value of w1 :  0.9756097560975613 Value of w2 :  1.2195121951219514 Error is :  3.1554436208840472e-30 Predicted is :  10.000000000000002\n",
      "Epoch :  88 Value of w1 :  0.975609756097561 Value of w2 :  1.219512195121951 Error is :  3.1554436208840472e-30 Predicted is :  9.999999999999998\n",
      "Epoch :  89 Value of w1 :  0.9756097560975613 Value of w2 :  1.2195121951219514 Error is :  3.1554436208840472e-30 Predicted is :  10.000000000000002\n",
      "Epoch :  90 Value of w1 :  0.975609756097561 Value of w2 :  1.219512195121951 Error is :  3.1554436208840472e-30 Predicted is :  9.999999999999998\n",
      "Epoch :  91 Value of w1 :  0.9756097560975613 Value of w2 :  1.2195121951219514 Error is :  3.1554436208840472e-30 Predicted is :  10.000000000000002\n",
      "Epoch :  92 Value of w1 :  0.975609756097561 Value of w2 :  1.219512195121951 Error is :  3.1554436208840472e-30 Predicted is :  9.999999999999998\n",
      "Epoch :  93 Value of w1 :  0.9756097560975613 Value of w2 :  1.2195121951219514 Error is :  3.1554436208840472e-30 Predicted is :  10.000000000000002\n",
      "Epoch :  94 Value of w1 :  0.975609756097561 Value of w2 :  1.219512195121951 Error is :  3.1554436208840472e-30 Predicted is :  9.999999999999998\n",
      "Epoch :  95 Value of w1 :  0.9756097560975613 Value of w2 :  1.2195121951219514 Error is :  3.1554436208840472e-30 Predicted is :  10.000000000000002\n",
      "Epoch :  96 Value of w1 :  0.975609756097561 Value of w2 :  1.219512195121951 Error is :  3.1554436208840472e-30 Predicted is :  9.999999999999998\n",
      "Epoch :  97 Value of w1 :  0.9756097560975613 Value of w2 :  1.2195121951219514 Error is :  3.1554436208840472e-30 Predicted is :  10.000000000000002\n",
      "Epoch :  98 Value of w1 :  0.975609756097561 Value of w2 :  1.219512195121951 Error is :  3.1554436208840472e-30 Predicted is :  9.999999999999998\n",
      "Epoch :  99 Value of w1 :  0.9756097560975613 Value of w2 :  1.2195121951219514 Error is :  3.1554436208840472e-30 Predicted is :  10.000000000000002\n"
     ]
    }
   ],
   "source": [
    "# learning rate\n",
    "\n",
    "lr = 0.02\n",
    "w1 = 0\n",
    "w2 = 0\n",
    "# w3 = 0\n",
    "\n",
    "for epoch in range(100):\n",
    "    y_pred = w1*x1 + w2*x2       # (prediction and error calculation)\n",
    "    error = (y - y_pred)**2 \n",
    "    \n",
    "    # dE/dW1 = 2(y-y_pred).(-x1)\n",
    "    \n",
    "    dEw1 = 2*(y - y_pred)*(-x1)     # ( weight adjustment calculation)\n",
    "    dEw2 = 2*(y - y_pred)*(-x2)\n",
    "    # dEw3 = 2*(y - y_pred)*(-x3)\n",
    "    \n",
    "    print(\"Epoch : \",epoch, \"Value of w1 : \", w1, \"Value of w2 : \", w2, \"Error is : \", error, \"Predicted is : \", y_pred)\n",
    "    \n",
    "    w1 = w1 - lr*dEw1    # (weight adjustment)\n",
    "    w2 = w2 - lr*dEw2\n",
    "    # w3 = w3 - lr*dEw3"
   ]
  },
  {
   "cell_type": "code",
   "execution_count": 10,
   "id": "0641f831",
   "metadata": {},
   "outputs": [],
   "source": [
    "# error = (y - ypred)^2\n",
    "# d(x^2)/dx = 2x\n",
    "# d(x^2+2x) = 2x + 2\n",
    "# d(error)/dw1 = 2(y-ypred)(y-(x1w1+x2w2))/dw1\n",
    "# d(error)/dw1 = 2(y-ypred)(y-(x1w1-x2w2))/dw1\n",
    "# d(error)/dw1 = 2(y-ypred)(-x1)"
   ]
  },
  {
   "cell_type": "code",
   "execution_count": 11,
   "id": "6bedeb45",
   "metadata": {},
   "outputs": [
    {
     "name": "stdout",
     "output_type": "stream",
     "text": [
      "0.975609756097561 1.219512195121951\n"
     ]
    }
   ],
   "source": [
    "print(w1, w2)"
   ]
  },
  {
   "cell_type": "code",
   "execution_count": null,
   "id": "05a06a49",
   "metadata": {},
   "outputs": [],
   "source": []
  },
  {
   "cell_type": "code",
   "execution_count": null,
   "id": "8274766f",
   "metadata": {},
   "outputs": [],
   "source": []
  }
 ],
 "metadata": {
  "kernelspec": {
   "display_name": "Python 3 (ipykernel)",
   "language": "python",
   "name": "python3"
  },
  "language_info": {
   "codemirror_mode": {
    "name": "ipython",
    "version": 3
   },
   "file_extension": ".py",
   "mimetype": "text/x-python",
   "name": "python",
   "nbconvert_exporter": "python",
   "pygments_lexer": "ipython3",
   "version": "3.9.13"
  }
 },
 "nbformat": 4,
 "nbformat_minor": 5
}
